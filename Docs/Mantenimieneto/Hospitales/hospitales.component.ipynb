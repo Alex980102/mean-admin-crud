{
 "cells": [
  {
   "cell_type": "markdown",
   "metadata": {},
   "source": [
    "# Hospitales Component\n",
    "\n",
    "this is the component for the `/src/app/pages/mantenimientos/hospitales/hospitales.component.ts`, we need to inject the `HospitalesService` on the constructor method."
   ]
  },
  {
   "cell_type": "code",
   "execution_count": null,
   "metadata": {},
   "outputs": [],
   "source": [
    "import { Component, OnInit } from '@angular/core';\n",
    "\n",
    "@Component({\n",
    "  selector: 'app-hospitales',\n",
    "  templateUrl: './hospitales.component.html',\n",
    "  styles: [\n",
    "  ]\n",
    "})\n",
    "export class HospitalesComponent implements OnInit {\n",
    "\n",
    "  constructor() { }\n",
    "\n",
    "  ngOnInit(): void {\n",
    "  }\n",
    "\n",
    "}\n"
   ]
  },
  {
   "cell_type": "markdown",
   "metadata": {},
   "source": [
    "in this part we inject the `HospitalesService` on the constructor method and then we import this service in the top of the code, then we use the `Oninit` is a lifecycle hook that called after Angular has initialized all data-bound properties of a directive. Define an `ngOninit()` method to handle any additional initializationtask. \n",
    "For more informatin <a href=\"https://angular.io/api/core/OnInit\">click here</a>."
   ]
  },
  {
   "cell_type": "code",
   "execution_count": null,
   "metadata": {},
   "outputs": [],
   "source": [
    "import { HospitalesComponent } from './../../../src/app/pages/mantenimientos/hospitales/hospitales.component';\n",
    "\n",
    "import { Component, OnInit } from '@angular/core';\n",
    "\n",
    "@Component({\n",
    "  selector: 'app-hospitales',\n",
    "  templateUrl: './hospitales.component.html',\n",
    "  styles: [\n",
    "  ]\n",
    "})\n",
    "export class HospitalesComponent implements OnInit {\n",
    "\n",
    "  constructor(private hospitalService: HospitalService) { }\n",
    "\n",
    "  ngOnInit(): void {\n",
    "    this.hospitalService.cargarHospitales()\n",
    "        .subscribe(res => {\n",
    "          console.log(res);\n",
    "        })\n",
    "  }\n",
    "\n",
    "}\n"
   ]
  },
  {
   "cell_type": "markdown",
   "metadata": {},
   "source": [
    "<div style=\"font-size:16px;\">\n",
    "In this part we change the logic of the hispital component because we want to display the information into the html file because we alrady have the information, but at the time we have de object body printed in the console. thats why we create two <code>public</code> variables the first is to display the array of data, and is called <code>hospitales</code> the second is the <code>cargando</code> variable and it's called when the hospitales module is loading\n",
    "</div>"
   ]
  },
  {
   "cell_type": "code",
   "execution_count": null,
   "metadata": {},
   "outputs": [],
   "source": [
    "import { Hospital } from './../../../models/hospital.model';\n",
    "import { HospitalService } from './../../../services/hospital.service';\n",
    "import { Component, OnInit } from '@angular/core';\n",
    "\n",
    "@Component({\n",
    "  selector: 'app-hospitales',\n",
    "  templateUrl: './hospitales.component.html',\n",
    "  styles: [\n",
    "  ]\n",
    "})\n",
    "export class HospitalesComponent implements OnInit {\n",
    "\n",
    "  public hospitales: Hospital[] = [];\n",
    "  public cargando: boolean = true;\n",
    "\n",
    "  constructor(private hospitalService: HospitalService) { }\n",
    "\n",
    "  ngOnInit(): void {\n",
    "    this.cargando = true;\n",
    "\n",
    "    this.hospitalService.cargarHospitales()\n",
    "        .subscribe(hospitales => {\n",
    "          this.cargando = false;\n",
    "        })\n",
    "  }\n",
    "\n",
    "}"
   ]
  },
  {
   "cell_type": "markdown",
   "metadata": {},
   "source": [
    "<div style=\"font-size:16px;\">\n",
    "Because we need to recycle the code inside the <code>ngOninit</code> we create a new method call  <code>cargandoHospital()</code> to call this method when we need this code inside the <code>class</code>.\n",
    "</div>"
   ]
  },
  {
   "cell_type": "code",
   "execution_count": null,
   "metadata": {},
   "outputs": [],
   "source": [
    "import { Hospital } from './../../../models/hospital.model';\n",
    "import { HospitalService } from './../../../services/hospital.service';\n",
    "import { Component, OnInit } from '@angular/core';\n",
    "\n",
    "@Component({\n",
    "  selector: 'app-hospitales',\n",
    "  templateUrl: './hospitales.component.html',\n",
    "  styles: [\n",
    "  ]\n",
    "})\n",
    "export class HospitalesComponent implements OnInit {\n",
    "\n",
    "  public hospitales: Hospital[] = [];\n",
    "  public cargando: boolean = true;\n",
    "\n",
    "  constructor(private hospitalService: HospitalService) { }\n",
    "\n",
    "  ngOnInit(): void {\n",
    "this.cargarHospitales();\n",
    "  }\n",
    "\n",
    "  cargarHospitales(){\n",
    "    this.cargando = true;\n",
    "\n",
    "    this.hospitalService.cargarHospitales()\n",
    "        .subscribe(hospitales => {\n",
    "          this.cargando = false;\n",
    "          this.hospitales = hospitales;\n",
    "        })\n",
    "  }\n",
    "\n",
    "}\n"
   ]
  }
 ],
 "metadata": {
  "language_info": {},
  "orig_nbformat": 3,
  "kernelspec": {
   "name": "typescript",
   "display_name": "TypeScript",
   "language": "typescript"
  }
 },
 "nbformat": 4,
 "nbformat_minor": 2
}