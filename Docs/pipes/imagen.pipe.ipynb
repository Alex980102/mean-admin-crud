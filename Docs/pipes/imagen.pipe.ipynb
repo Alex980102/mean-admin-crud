{
 "cells": [
  {
   "cell_type": "markdown",
   "metadata": {},
   "source": [
    "# Pipes\n",
    "***\n",
    "<div style=\"font-size:16px\">\n",
    "A pipe it use to transform strings, currency amounts, dates, and other data for display. Pipes you can use in template expressions to accept input value and return a transformed value, for info <a href=\"https://angular.io/api/core/OnInit\">click here</a>.\n",
    "First we need to tipe the following command to generate the pipe with the <code>angular-cli</code>.\n",
    "</div>"
   ]
  },
  {
   "cell_type": "code",
   "execution_count": null,
   "metadata": {},
   "outputs": [],
   "source": [
    "ng g pipe pipes/imagen --skipTests  "
   ]
  },
  {
   "cell_type": "markdown",
   "metadata": {},
   "source": [
    "```\n",
    "Your global Angular CLI version (11.2.11) is greater than your local version (10.0.0). The local Angular CLI version is used.\n",
    "\n",
    "To disable this warning use \"ng config -g cli.warnings.versionMismatch false\".\n",
    "CREATE src/app/pipes/imagen.pipe.ts (217 bytes)\n",
    "UPDATE src/app/app.module.ts (695 bytes)\n",
    "(base) \n",
    "```"
   ]
  },
  {
   "cell_type": "markdown",
   "metadata": {},
   "source": [
    "<div style=\"font-size:16px\">\n",
    "We can note that we <code>CREATE</code> one file into <code>src/app/pipes/imagen.pipe.ts</code> and <code>UPDATE</code> a file into <code>src/app/app.module.ts</code> \n",
    "</div>"
   ]
  },
  {
   "cell_type": "markdown",
   "metadata": {},
   "source": [
    "> ## src/app/app.module.ts"
   ]
  },
  {
   "cell_type": "code",
   "execution_count": null,
   "metadata": {},
   "outputs": [],
   "source": [
    "import { BrowserModule } from '@angular/platform-browser';\n",
    "import { NgModule } from '@angular/core';\n",
    "\n",
    "// Modulos\n",
    "import { AppRoutingModule } from './app-routing.module';\n",
    "import { PagesModule } from './pages/pages.module';\n",
    "import { AuthModule } from './auth/auth.module';\n",
    "\n",
    "import { AppComponent } from './app.component';\n",
    "import { NopagefoundComponent } from './nopagefound/nopagefound.component';\n",
    "import { ImagenPipe } from './pipes/imagen.pipe';\n",
    "\n",
    "\n",
    "\n",
    "\n",
    "\n",
    "@NgModule({\n",
    "  declarations: [\n",
    "    AppComponent,\n",
    "    NopagefoundComponent,\n",
    "    ImagenPipe,\n",
    "  ],\n",
    "  imports: [\n",
    "    BrowserModule,\n",
    "    AppRoutingModule,\n",
    "    PagesModule,\n",
    "    AuthModule\n",
    "  ],\n",
    "  bootstrap: [AppComponent]\n",
    "})\n",
    "export class AppModule { }\n"
   ]
  },
  {
   "cell_type": "markdown",
   "metadata": {},
   "source": [
    "<div style=\"font-size:16px\">\n",
    "As we say in the previous part we update the file <code>src/app/app.module.ts</code>, this means that we imporrt the pipe into the app.module file, but if we have a lot of pipes this method is not efficient. That why we need to delete the import and create a independent<div>module</div>\n",
    "</div>"
   ]
  },
  {
   "cell_type": "code",
   "execution_count": null,
   "metadata": {},
   "outputs": [],
   "source": [
    "import { BrowserModule } from '@angular/platform-browser';\n",
    "import { NgModule } from '@angular/core';\n",
    "\n",
    "// Modulos\n",
    "import { AppRoutingModule } from './app-routing.module';\n",
    "import { PagesModule } from './pages/pages.module';\n",
    "import { AuthModule } from './auth/auth.module';\n",
    "\n",
    "import { AppComponent } from './app.component';\n",
    "import { NopagefoundComponent } from './nopagefound/nopagefound.component';\n",
    "\n",
    "\n",
    "\n",
    "\n",
    "\n",
    "@NgModule({\n",
    "  declarations: [\n",
    "    AppComponent,\n",
    "    NopagefoundComponent,\n",
    "  ],\n",
    "  imports: [\n",
    "    BrowserModule,\n",
    "    AppRoutingModule,\n",
    "    PagesModule,\n",
    "    AuthModule\n",
    "  ],\n",
    "  bootstrap: [AppComponent]\n",
    "})\n",
    "export class AppModule { }\n"
   ]
  },
  {
   "cell_type": "markdown",
   "metadata": {},
   "source": [
    "<div style=\"font-size:16px;\">\n",
    "In the next line we create a module for our pipes, remember that the modules are containers for cohesive block of code dedicated to an application domain, a workflow, or a closely related set of capabilities. for more information <a href=\"https://angular.io/guide/architecture-modules\">click here</a>.\n",
    "</div>"
   ]
  },
  {
   "cell_type": "code",
   "execution_count": null,
   "metadata": {},
   "outputs": [],
   "source": [
    "ng g m pipes/pipes --flat"
   ]
  },
  {
   "cell_type": "markdown",
   "metadata": {},
   "source": [
    "```\n",
    "Your global Angular CLI version (11.2.11) is greater than your local version (10.0.0). The local Angular CLI version is used.\n",
    "\n",
    "To disable this warning use \"ng config -g cli.warnings.versionMismatch false\".\n",
    "CREATE src/app/pipes/pipes.module.ts (191 bytes)\n",
    "```"
   ]
  },
  {
   "cell_type": "markdown",
   "metadata": {},
   "source": [
    "***\n",
    "> ## src/app/pipes/pipes.module.ts\n"
   ]
  },
  {
   "cell_type": "code",
   "execution_count": null,
   "metadata": {},
   "outputs": [],
   "source": [
    "import { NgModule } from '@angular/core';\n",
    "import { CommonModule } from '@angular/common';\n",
    "\n",
    "\n",
    "\n",
    "@NgModule({\n",
    "  declarations: [],\n",
    "  imports: [\n",
    "    CommonModule\n",
    "  ]\n",
    "})\n",
    "export class PipesModule { }\n"
   ]
  },
  {
   "cell_type": "markdown",
   "metadata": {},
   "source": [
    "<div style=\"font-size:16px\">\n",
    "we need to declare our pipe in the <code>declarations</code> and then we need to <code>export</code> our pipe\n",
    "</div>"
   ]
  },
  {
   "cell_type": "code",
   "execution_count": null,
   "metadata": {},
   "outputs": [],
   "source": [
    "import { NgModule } from '@angular/core';\n",
    "import { ImagenPipe } from './imagen.pipe';\n",
    "\n",
    "\n",
    "\n",
    "\n",
    "@NgModule({\n",
    "  declarations: [ImagenPipe],\n",
    "  exports: [ImagenPipe],\n",
    "})\n",
    "export class PipesModule { }\n"
   ]
  },
  {
   "source": [
    "***\n",
    "> ## src/app/pipes/imagen.pipe.ts"
   ],
   "cell_type": "markdown",
   "metadata": {}
  },
  {
   "cell_type": "code",
   "execution_count": null,
   "metadata": {},
   "outputs": [],
   "source": [
    "import { Pipe, PipeTransform } from '@angular/core';\n",
    "\n",
    "@Pipe({\n",
    "  name: 'imagen'\n",
    "})\n",
    "export class ImagenPipe implements PipeTransform {\n",
    "\n",
    "  transform(value: unknown, ...args: unknown[]): unknown {\n",
    "    return null;\n",
    "  }\n",
    "\n",
    "}"
   ]
  },
  {
   "source": [
    "First we need to "
   ],
   "cell_type": "markdown",
   "metadata": {}
  },
  {
   "cell_type": "code",
   "execution_count": null,
   "metadata": {},
   "outputs": [],
   "source": [
    "import { Pipe, PipeTransform } from '@angular/core';\n",
    "\n",
    "@Pipe({\n",
    "  name: 'imagen'\n",
    "})\n",
    "export class ImagenPipe implements PipeTransform {\n",
    "\n",
    "  transform(img: string, tipo: 'usuarios' | 'medicos' | 'hospitales'): string {\n",
    "    return 'hola mundo' + img + '' + tipo;\n",
    "  }\n",
    "\n",
    "}"
   ]
  },
  {
   "cell_type": "code",
   "execution_count": null,
   "metadata": {},
   "outputs": [],
   "source": [
    "import { environment } from './../../environments/environment';\n",
    "import { Pipe, PipeTransform } from '@angular/core';\n",
    "\n",
    "const base_url = environment.base_url;\n",
    "\n",
    "@Pipe({\n",
    "  name: 'imagen'\n",
    "})\n",
    "export class ImagenPipe implements PipeTransform {\n",
    "\n",
    "  transform(img: string, tipo: 'usuarios' | 'medicos' | 'hospitales'): string {\n",
    "    if (!img) {\n",
    "      return `${base_url}/upload/${tipo}/no-image`;\n",
    "    } else if (img.includes('https')) {\n",
    "      return img;\n",
    "    } else if (img) {\n",
    "      return `${base_url}/upload/${tipo}/${img}`;\n",
    "    } else {\n",
    "      return `${base_url}/upload/${tipo}/no-image`;\n",
    "    }\n",
    "  }\n",
    "\n",
    "}"
   ]
  }
 ],
 "metadata": {
  "kernelspec": {
   "display_name": "TypeScript",
   "name": "typescript"
  },
  "language_info": {
   "name": "typescript",
   "version": ""
  },
  "orig_nbformat": 2
 },
 "nbformat": 4,
 "nbformat_minor": 2
}