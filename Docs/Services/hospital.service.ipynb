{
 "cells": [
  {
   "cell_type": "markdown",
   "metadata": {},
   "source": [
    "# Hospital Service"
   ]
  },
  {
   "cell_type": "code",
   "execution_count": null,
   "metadata": {},
   "outputs": [],
   "source": [
    "import { Injectable } from '@angular/core';\n",
    "\n",
    "@Injectable({\n",
    "  providedIn: 'root'\n",
    "})\n",
    "export class HospitalService {\n",
    "  \n",
    "  constructor( private http: HttpClient ) { }\n",
    "}"
   ]
  },
  {
   "cell_type": "markdown",
   "metadata": {},
   "source": [
    "<div style=\"font-size:16px;\">First we need to obteined the <code>token</code> because the backen need this <code>token</code> to validate the petition, this <code>token</code> is stored in the local storage because when we login we generate this <code>token</code>, thas why we need to create a getter method to obtained this <code>token</code> and return.\n",
    "Then, wee need to pass this <code>token</code> into a object with the a `headers` key."
   ]
  },
  {
   "cell_type": "code",
   "execution_count": null,
   "metadata": {},
   "outputs": [],
   "source": [
    "import { Injectable } from '@angular/core';\n",
    "\n",
    "@Injectable({\n",
    "  providedIn: 'root'\n",
    "})\n",
    "export class HospitalService {\n",
    "\n",
    "  \n",
    "  constructor( private http: HttpClient ) { }\n",
    "\n",
    "  get token(): string {\n",
    "    return localStorage.getItem('token') || '';\n",
    "  }\n",
    "  \n",
    "  get headers() {\n",
    "    return {\n",
    "      headers: {\n",
    "        'x-token': this.token \n",
    "      }\n",
    "    }\n",
    "  }\n",
    "}"
   ]
  },
  {
   "cell_type": "markdown",
   "metadata": {},
   "source": [
    "<div style=\"font-size:16px;\">\n",
    "Then we need to import the <code>enviroments</code> because we stored the url that location, then we need to create a function that use the <code>http.get</code> method to get the users object.  \n",
    "</div>"
   ]
  },
  {
   "cell_type": "code",
   "execution_count": null,
   "metadata": {},
   "outputs": [],
   "source": [
    "import { environment } from './../../environments/environment';\n",
    "import { HttpClient } from '@angular/common/http';\n",
    "import { Injectable } from '@angular/core';\n",
    "\n",
    "const base_url = environment.base_url;\n",
    "\n",
    "@Injectable({\n",
    "  providedIn: 'root'\n",
    "})\n",
    "export class HospitalService {\n",
    "\n",
    "\n",
    "  constructor( private http: HttpClient ) { }\n",
    "\n",
    "  get token(): string {\n",
    "    return localStorage.getItem('token') || '';\n",
    "  }\n",
    "\n",
    "  get headers() {\n",
    "    return {\n",
    "      headers: {\n",
    "        'x-token': this.token\n",
    "      }\n",
    "    }\n",
    "  }\n",
    "\n",
    "  cargarHospitales(){\n",
    "    const url = `${base_url}/hospitales`;\n",
    "    return this.http.get(url, this.headers);\n",
    "  }\n",
    "}"
   ]
  },
  {
   "cell_type": "code",
   "execution_count": null,
   "metadata": {},
   "outputs": [],
   "source": [
    "import { environment } from '../../src/environments/environment';\n",
    "import { Hospital } from './../models/hospital.model';\n",
    "import { map } from 'rxjs/operators';\n",
    "\n",
    "import { HttpClient } from '@angular/common/http';\n",
    "import { Injectable } from '@angular/core';\n",
    "\n",
    "const base_url = environment.base_url;\n",
    "\n",
    "@Injectable({\n",
    "  providedIn: 'root'\n",
    "})\n",
    "export class HospitalService {\n",
    "\n",
    "\n",
    "  constructor( private http: HttpClient ) { }\n",
    "\n",
    "  get token(): string {\n",
    "    return localStorage.getItem('token') || '';\n",
    "  }\n",
    "\n",
    "  get headers() {\n",
    "    return {\n",
    "      headers: {\n",
    "        'x-token': this.token\n",
    "      }\n",
    "    }\n",
    "  }\n",
    "\n",
    "  cargarHospitales(){\n",
    "    const url = `${base_url}/hospitales`;\n",
    "    return this.http.get(url, this.headers)\n",
    "            .pipe(\n",
    "              map((resp: {ok: boolean, hospitales: Hospital[]}) => resp.hospitales)\n",
    "            )\n",
    "  }\n",
    "}"
   ]
  }
 ],
 "metadata": {
  "language_info": {},
  "orig_nbformat": 3
 },
 "nbformat": 4,
 "nbformat_minor": 2
}